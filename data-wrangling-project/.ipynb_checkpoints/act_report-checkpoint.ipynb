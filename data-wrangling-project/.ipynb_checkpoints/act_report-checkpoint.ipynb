{
 "cells": [
  {
   "cell_type": "markdown",
   "metadata": {},
   "source": [
    "# Act Report\n",
    "## Submitted by Bharat Garg\n",
    "\n"
   ]
  },
  {
   "cell_type": "markdown",
   "metadata": {},
   "source": [
    "### Introduction\n",
    "This analysis is of tweets from the WeRateDogs twitter archive and tweet image predictions. As part of the analysis, the following variables were analyzed:\n",
    "1. dog_stage (various stages of a dog's lifecycle)\n",
    "2. retweet_count (number of retweets vs timestamp of tweet\n",
    "3. p1 (predicted breed of dog using neural network)"
   ]
  },
  {
   "cell_type": "markdown",
   "metadata": {},
   "source": [
    "#### Dog Stage\n",
    "The graph below shows the number of tweets with the indicated dog stage. As can be seen from the graph, \"pupper\" is the most popular dog stage. \n",
    "However, of the cleaned data set, only about 190 tweets have dog stage mentioned."
   ]
  },
  {
   "cell_type": "markdown",
   "metadata": {},
   "source": [
    "<img src=\"dog_stage_name.png\" width=\"800\" height=\"800\">"
   ]
  },
  {
   "cell_type": "markdown",
   "metadata": {},
   "source": [
    "#### Retweet Count\n",
    "The graph below shows the number of retweets for every tweet from 2015 to 2017 (values only upto 10000 are plotted). As can be observed from the graph, the retweet count rises from 2015 to 2017, indicating rising popularity of the WeRateDogs page."
   ]
  },
  {
   "cell_type": "markdown",
   "metadata": {},
   "source": [
    "<img src=\"retweet_count.png\" width=\"800\" height=\"800\">"
   ]
  },
  {
   "cell_type": "markdown",
   "metadata": {},
   "source": [
    "#### Dog Breed Popularity\n",
    "Based on the neural network classification, the breed of the dogs was identified for the tweets. The graph below shows the number of dogs for top 10 breeds made using p1 prediction. Golden Retreiver is the most popular breed among the dogs."
   ]
  },
  {
   "cell_type": "markdown",
   "metadata": {},
   "source": [
    "<img src=\"p1_predicted_breed.png\" width=\"800\" height=\"800\">"
   ]
  }
 ],
 "metadata": {
  "kernelspec": {
   "display_name": "Python [conda env:anaconda3]",
   "language": "python",
   "name": "conda-env-anaconda3-py"
  },
  "language_info": {
   "codemirror_mode": {
    "name": "ipython",
    "version": 3
   },
   "file_extension": ".py",
   "mimetype": "text/x-python",
   "name": "python",
   "nbconvert_exporter": "python",
   "pygments_lexer": "ipython3",
   "version": "3.6.5"
  }
 },
 "nbformat": 4,
 "nbformat_minor": 2
}
